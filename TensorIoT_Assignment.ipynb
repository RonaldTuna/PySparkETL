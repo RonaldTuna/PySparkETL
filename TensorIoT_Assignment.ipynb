{
  "nbformat": 4,
  "nbformat_minor": 0,
  "metadata": {
    "colab": {
      "name": "TensorIoT_Assignment.ipynb",
      "provenance": [],
      "authorship_tag": "ABX9TyNJ3IMtB3GgEKO/YmFCdLGC",
      "include_colab_link": true
    },
    "kernelspec": {
      "name": "python3",
      "display_name": "Python 3"
    },
    "language_info": {
      "name": "python"
    }
  },
  "cells": [
    {
      "cell_type": "markdown",
      "metadata": {
        "id": "view-in-github",
        "colab_type": "text"
      },
      "source": [
        "<a href=\"https://colab.research.google.com/github/RonaldTuna/TensorIoTAssignment/blob/main/TensorIoT_Assignment.ipynb\" target=\"_parent\"><img src=\"https://colab.research.google.com/assets/colab-badge.svg\" alt=\"Open In Colab\"/></a>"
      ]
    },
    {
      "cell_type": "markdown",
      "source": [
        "**STEPS:**\n",
        "\n",
        "Download the data files from here - http://jmcauley.ucsd.edu/data/amazon/links.html\n",
        "\n",
        "Apache spark tools locally and necessary tools\n",
        "\n",
        "Download a review file with a million reviews\n",
        "\n",
        "Using Jupyter notebook create a program to read the million reviews and get the following\n",
        "\n",
        "transform date to MM-DD-YYYY format\n",
        "\n",
        "Save the data into a table (postgres/sql server)\n",
        "Save the output as a Parquet file\n",
        "\n",
        "\n",
        "Upload code to Github  and complete Readme.md which anyone can understand\n",
        "\n",
        "Send Github link to HR\n",
        "\n",
        "\n",
        "\n",
        "Skills Learning / Tools Used:\n",
        "\n",
        "    postgres\n",
        "    workbench/J\n",
        "    Jupyter notebook\n",
        "    Apache spark\n",
        "    Data frame transforms\n",
        "    \n",
        "\n",
        "\n",
        "\n",
        "\n",
        "\n",
        "\n",
        "\n"
      ],
      "metadata": {
        "id": "QFW_FbEwBco8"
      }
    },
    {
      "cell_type": "code",
      "source": [
        "# Install Java, Spark, Findspark and download a Postgresql driver\n",
        "!apt-get install openjdk-11-jdk-headless -qq > /dev/null\n",
        "!wget -q -nc https://downloads.apache.org/spark/spark-3.2.1/spark-3.2.1-bin-hadoop3.2.tgz\n",
        "!tar xf spark-3.2.1-bin-hadoop3.2.tgz\n",
        "!pip install -q findspark\n",
        "\n",
        "!wget -nc https://jdbc.postgresql.org/download/postgresql-42.3.5.jar\n",
        "\n",
        "# Set Environment Variables\n",
        "import os\n",
        "os.environ[\"JAVA_HOME\"] = \"/usr/lib/jvm/java-11-openjdk-amd64\"\n",
        "os.environ[\"SPARK_HOME\"] = \"/content/spark-3.2.1-bin-hadoop3.2\"\n",
        "\n",
        "# Start a SparkSession\n",
        "import findspark\n",
        "findspark.init()"
      ],
      "metadata": {
        "colab": {
          "base_uri": "https://localhost:8080/"
        },
        "id": "ZnebPMZQCD7S",
        "outputId": "4da00251-0444-4c92-db0d-ad71ceef5228"
      },
      "execution_count": 1,
      "outputs": [
        {
          "output_type": "stream",
          "name": "stdout",
          "text": [
            "--2022-05-13 02:57:13--  https://jdbc.postgresql.org/download/postgresql-42.3.5.jar\n",
            "Resolving jdbc.postgresql.org (jdbc.postgresql.org)... 72.32.157.228, 2001:4800:3e1:1::228\n",
            "Connecting to jdbc.postgresql.org (jdbc.postgresql.org)|72.32.157.228|:443... connected.\n",
            "HTTP request sent, awaiting response... 200 OK\n",
            "Length: 1041066 (1017K) [application/java-archive]\n",
            "Saving to: ‘postgresql-42.3.5.jar’\n",
            "\n",
            "postgresql-42.3.5.j 100%[===================>]   1017K  5.14MB/s    in 0.2s    \n",
            "\n",
            "2022-05-13 02:57:14 (5.14 MB/s) - ‘postgresql-42.3.5.jar’ saved [1041066/1041066]\n",
            "\n"
          ]
        }
      ]
    },
    {
      "cell_type": "code",
      "source": [
        "#install pyspark\n",
        "try:\n",
        "  %pyspark_version 3.x\n",
        "except Exception:\n",
        "  pass\n",
        "\n",
        "!pip install pyspark"
      ],
      "metadata": {
        "colab": {
          "base_uri": "https://localhost:8080/"
        },
        "id": "PM-KAwZ9QPON",
        "outputId": "19135b23-6c25-4314-d539-8091a4cc4ebb"
      },
      "execution_count": 2,
      "outputs": [
        {
          "output_type": "stream",
          "name": "stdout",
          "text": [
            "Requirement already satisfied: pyspark in /usr/local/lib/python3.7/dist-packages (3.2.1)\n",
            "Requirement already satisfied: py4j==0.10.9.3 in /usr/local/lib/python3.7/dist-packages (from pyspark) (0.10.9.3)\n"
          ]
        }
      ]
    },
    {
      "cell_type": "code",
      "source": [
        "# Install postgresql server\n",
        "!sudo apt-get -y -qq update\n",
        "!sudo apt-get -y -qq install postgresql\n",
        "!sudo service postgresql start\n",
        "\n",
        "# Setup a password `postgres` for username `postgres`\n",
        "!sudo -u postgres psql -U postgres -c \"ALTER USER postgres PASSWORD 'postgres';\"\n",
        "\n",
        "# Setup a database with name `reviews` to be used\n",
        "!sudo -u postgres psql -U postgres -c 'DROP DATABASE IF EXISTS reviews;'\n",
        "!sudo -u postgres psql -U postgres -c 'CREATE DATABASE reviews;'"
      ],
      "metadata": {
        "colab": {
          "base_uri": "https://localhost:8080/"
        },
        "id": "Y97SOEe-T3m5",
        "outputId": "f1eb08be-ca19-47b7-8c9d-a4cf9305ff7b"
      },
      "execution_count": 3,
      "outputs": [
        {
          "output_type": "stream",
          "name": "stdout",
          "text": [
            " * Starting PostgreSQL 10 database server\n",
            "   ...done.\n",
            "ALTER ROLE\n",
            "DROP DATABASE\n",
            "CREATE DATABASE\n"
          ]
        }
      ]
    },
    {
      "cell_type": "code",
      "source": [
        "#setting up environment\n",
        "%env REVIEWS_DATABASE_NAME=reviews\n",
        "%env REVIEWS_DATABASE_HOST=localhost\n",
        "%env REVIEWS_DATABASE_PORT=5432 \n",
        "%env REVIEWS_DATABASE_USER=postgres\n",
        "%env REVIEWS_DATABASE_PASS=postgres"
      ],
      "metadata": {
        "colab": {
          "base_uri": "https://localhost:8080/"
        },
        "id": "Qz_pVkrtUVx3",
        "outputId": "3aae2ca9-9e3c-4056-c353-9f82c0a37833"
      },
      "execution_count": 4,
      "outputs": [
        {
          "output_type": "stream",
          "name": "stdout",
          "text": [
            "env: REVIEWS_DATABASE_NAME=reviews\n",
            "env: REVIEWS_DATABASE_HOST=localhost\n",
            "env: REVIEWS_DATABASE_PORT=5432\n",
            "env: REVIEWS_DATABASE_USER=postgres\n",
            "env: REVIEWS_DATABASE_PASS=postgres\n"
          ]
        }
      ]
    },
    {
      "cell_type": "code",
      "source": [
        "#import pyspark and required tools\n",
        "import pyspark\n",
        "from pyspark.sql import SparkSession\n",
        "from pyspark.sql.functions import *"
      ],
      "metadata": {
        "id": "hfHbDA6VNMyS"
      },
      "execution_count": 5,
      "outputs": []
    },
    {
      "cell_type": "markdown",
      "source": [
        "I extracted the reviews for Android Applications, which contains 2,638,173 reviews using wget.\n",
        "\n",
        "I then load the reviews into a pyspark dataframe"
      ],
      "metadata": {
        "id": "HOwqW3QIW02K"
      }
    },
    {
      "cell_type": "code",
      "source": [
        "#download review file from link \n",
        "!wget -nc \"http://snap.stanford.edu/data/amazon/productGraph/categoryFiles/reviews_Apps_for_Android.json.gz\"\n",
        "\n",
        "#create a spark session\n",
        "spark = SparkSession \\\n",
        "    .builder \\\n",
        "    .config(\"spark.jars\", \"/content/spark-3.2.1-bin-hadoop3.2/jars/postgresql-42.3.5.jar\")\\\n",
        "    .appName(\"AmazonReviews\") \\\n",
        "    .getOrCreate()\n",
        "df = spark.read.json('/content/reviews_Apps_for_Android.json.gz')"
      ],
      "metadata": {
        "id": "HT5Ic1uRLO7W",
        "colab": {
          "base_uri": "https://localhost:8080/"
        },
        "outputId": "ebb93af0-0cf2-4324-e981-21b70b88a3e7"
      },
      "execution_count": 6,
      "outputs": [
        {
          "output_type": "stream",
          "name": "stdout",
          "text": [
            "--2022-05-13 02:57:29--  http://snap.stanford.edu/data/amazon/productGraph/categoryFiles/reviews_Apps_for_Android.json.gz\n",
            "Resolving snap.stanford.edu (snap.stanford.edu)... 171.64.75.80\n",
            "Connecting to snap.stanford.edu (snap.stanford.edu)|171.64.75.80|:80... connected.\n",
            "HTTP request sent, awaiting response... 200 OK\n",
            "Length: 299986290 (286M) [application/x-gzip]\n",
            "Saving to: ‘reviews_Apps_for_Android.json.gz’\n",
            "\n",
            "reviews_Apps_for_An 100%[===================>] 286.09M  41.1MB/s    in 8.0s    \n",
            "\n",
            "2022-05-13 02:58:16 (35.6 MB/s) - ‘reviews_Apps_for_Android.json.gz’ saved [299986290/299986290]\n",
            "\n"
          ]
        }
      ]
    },
    {
      "cell_type": "markdown",
      "source": [
        "Transform data from MM DD, YYYY to MM-DD-YYYY by using to_date() to turn the string into a date object, and used date_format() to reformat to specified format.\n",
        "\n",
        "Replace old column with new column containing reformatted dates by deleting the old column and renaming the new one."
      ],
      "metadata": {
        "id": "TmrF7VPqfN5f"
      }
    },
    {
      "cell_type": "code",
      "source": [
        "df = df.withColumn('newTime', date_format(to_date('reviewTime', format='MM d, yyyy'), \"MM-dd-yyyy\"))\n",
        "df = df.drop(\"reviewTime\")\n",
        "df = df.withColumnRenamed(\"newTime\",\"reviewTime\")\n",
        "df.show()"
      ],
      "metadata": {
        "id": "F4HWmtstLPq0",
        "colab": {
          "base_uri": "https://localhost:8080/"
        },
        "outputId": "90223a27-7106-4114-cfba-3d1ef3fcea34"
      },
      "execution_count": 7,
      "outputs": [
        {
          "output_type": "stream",
          "name": "stdout",
          "text": [
            "+----------+--------+-------+--------------------+--------------+--------------------+--------------------+--------------+----------+\n",
            "|      asin| helpful|overall|          reviewText|    reviewerID|        reviewerName|             summary|unixReviewTime|reviewTime|\n",
            "+----------+--------+-------+--------------------+--------------+--------------------+--------------------+--------------+----------+\n",
            "|B004A9SDD8|  [0, 0]|    5.0|Glad to finally s...| AUI0OLXAB3KKT|          A Customer|        Great app!!!|    1301184000|03-27-2011|\n",
            "|B004A9SDD8|[12, 14]|    5.0|this app works gr...|A1ZUSQ3TC3EC4C|           A. Lissak|        Kid loves it|    1321574400|11-18-2011|\n",
            "|B004A9SDD8|  [0, 0]|    4.0|We love these mon...| AC05OAXD72X1V|               Allie| Love these monkeys!|    1367366400|05-01-2013|\n",
            "|B004A9SDD8|  [0, 2]|    5.0|cannot get my kin...|A2RVMFOKBVM21I|     Amazon Customer|fun fun for toddlers|    1350172800|10-14-2012|\n",
            "|B004A9SDD8|  [1, 3]|    1.0|I start this app ...|A3NBSRGUWQGCMZ|     Amazon Customer|Might be great if...|    1300838400|03-23-2011|\n",
            "|B004A9SDD8|  [0, 0]|    5.0|Very engaging to ...|A2KTVCVZJ8GPD2|           A. Mclean|         Great video|    1393545600|02-28-2014|\n",
            "|B004A9SDD8|  [1, 2]|    3.0|My daughter loves...|A2I9RREBHMMPCJ|             AngelaM|great when it worked|    1305504000|05-16-2011|\n",
            "|B004A9SDD8|  [1, 1]|    3.0|Loves the song, s...|A1N4O8VOJZTDVB|      Annette Yancey|         Really cute|    1383350400|11-02-2013|\n",
            "|B004A9SDD8|  [0, 0]|    5.0|Oh, how my little...|A2HQWU6HUKIEC7|Audiobook lover \"...| 2-year-old loves it|    1323043200|12-05-2011|\n",
            "|B004A9SDD8|  [0, 0]|    5.0|I found this at a...|A1SXASF6GYG96I|       Barbara Gibbs|            Fun game|    1337558400|05-21-2012|\n",
            "|B004A9SDD8|  [3, 4]|    5.0|My 1 year old goe...|A2B54P9ZDYH167|Brooke Greenstree...|We love our Monkeys!|    1354752000|12-06-2012|\n",
            "|B004A9SDD8|  [0, 4]|    4.0|Works great on my...|A3Q5R6B7MW8F7Q|              Buck9s|A fun little inte...|    1300924800|03-24-2011|\n",
            "|B004A9SDD8|  [0, 0]|    5.0|This is great for...|A118ECNHF2OCUO|             Carl K.|               great|    1300838400|03-23-2011|\n",
            "|B004A9SDD8|  [0, 0]|    5.0|I haven't found m...|A2BAQGVVFURVDR|                  CB|Awesome game for ...|    1327276800|01-23-2012|\n",
            "|B004A9SDD8|  [1, 1]|    5.0|There are three d...| AFOFZDTX5UC6D|          C. Galindo|This is my grandd...|    1391212800|02-01-2014|\n",
            "|B004A9SDD8|  [0, 1]|    5.0|i downloaded this...|A1MBEM25C3QS5R|               cindy|           dr said??|    1357430400|01-06-2013|\n",
            "|B004A9SDD8|  [1, 1]|    5.0|As a Speech langu...|A2CEK8H02SS23S|           cin_sph66|My patients reque...|    1389916800|01-17-2014|\n",
            "|B004A9SDD8|  [0, 0]|    1.0|Thought it would ...|A1WWW804VWFAHH|          dave hagen|Instead it was ju...|    1404864000|07-09-2014|\n",
            "|B004A9SDD8|  [3, 3]|    5.0|This is absolutel...|A3E6DLEQCZKGDC|             Deborah|           Favorite!|    1377561600|08-27-2013|\n",
            "|B004A9SDD8|  [3, 4]|    1.0|I am so disappoin...| AVYKSESEMLPE3|             Donna S|   Very Disappointed|    1325894400|01-07-2012|\n",
            "+----------+--------+-------+--------------------+--------------+--------------------+--------------------+--------------+----------+\n",
            "only showing top 20 rows\n",
            "\n"
          ]
        }
      ]
    },
    {
      "cell_type": "code",
      "source": [
        "null = u'\\u0000'\n",
        "new_df = df.withColumn('reviewText', regexp_replace(df['reviewText'], null, ''))"
      ],
      "metadata": {
        "colab": {
          "base_uri": "https://localhost:8080/"
        },
        "id": "PuF_wDfMazVn",
        "outputId": "bae8c056-79fd-42d5-8eb8-6d068111e268"
      },
      "execution_count": 13,
      "outputs": [
        {
          "output_type": "stream",
          "name": "stdout",
          "text": [
            "+----------+--------+-------+--------------------+--------------+--------------------+--------------------+--------------+----------+\n",
            "|      asin| helpful|overall|          reviewText|    reviewerID|        reviewerName|             summary|unixReviewTime|reviewTime|\n",
            "+----------+--------+-------+--------------------+--------------+--------------------+--------------------+--------------+----------+\n",
            "|B004A9SDD8|  [0, 0]|    5.0|Glad to finally s...| AUI0OLXAB3KKT|          A Customer|        Great app!!!|    1301184000|03-27-2011|\n",
            "|B004A9SDD8|[12, 14]|    5.0|this app works gr...|A1ZUSQ3TC3EC4C|           A. Lissak|        Kid loves it|    1321574400|11-18-2011|\n",
            "|B004A9SDD8|  [0, 0]|    4.0|We love these mon...| AC05OAXD72X1V|               Allie| Love these monkeys!|    1367366400|05-01-2013|\n",
            "|B004A9SDD8|  [0, 2]|    5.0|cannot get my kin...|A2RVMFOKBVM21I|     Amazon Customer|fun fun for toddlers|    1350172800|10-14-2012|\n",
            "|B004A9SDD8|  [1, 3]|    1.0|I start this app ...|A3NBSRGUWQGCMZ|     Amazon Customer|Might be great if...|    1300838400|03-23-2011|\n",
            "|B004A9SDD8|  [0, 0]|    5.0|Very engaging to ...|A2KTVCVZJ8GPD2|           A. Mclean|         Great video|    1393545600|02-28-2014|\n",
            "|B004A9SDD8|  [1, 2]|    3.0|My daughter loves...|A2I9RREBHMMPCJ|             AngelaM|great when it worked|    1305504000|05-16-2011|\n",
            "|B004A9SDD8|  [1, 1]|    3.0|Loves the song, s...|A1N4O8VOJZTDVB|      Annette Yancey|         Really cute|    1383350400|11-02-2013|\n",
            "|B004A9SDD8|  [0, 0]|    5.0|Oh, how my little...|A2HQWU6HUKIEC7|Audiobook lover \"...| 2-year-old loves it|    1323043200|12-05-2011|\n",
            "|B004A9SDD8|  [0, 0]|    5.0|I found this at a...|A1SXASF6GYG96I|       Barbara Gibbs|            Fun game|    1337558400|05-21-2012|\n",
            "|B004A9SDD8|  [3, 4]|    5.0|My 1 year old goe...|A2B54P9ZDYH167|Brooke Greenstree...|We love our Monkeys!|    1354752000|12-06-2012|\n",
            "|B004A9SDD8|  [0, 4]|    4.0|Works great on my...|A3Q5R6B7MW8F7Q|              Buck9s|A fun little inte...|    1300924800|03-24-2011|\n",
            "|B004A9SDD8|  [0, 0]|    5.0|This is great for...|A118ECNHF2OCUO|             Carl K.|               great|    1300838400|03-23-2011|\n",
            "|B004A9SDD8|  [0, 0]|    5.0|I haven't found m...|A2BAQGVVFURVDR|                  CB|Awesome game for ...|    1327276800|01-23-2012|\n",
            "|B004A9SDD8|  [1, 1]|    5.0|There are three d...| AFOFZDTX5UC6D|          C. Galindo|This is my grandd...|    1391212800|02-01-2014|\n",
            "|B004A9SDD8|  [0, 1]|    5.0|i downloaded this...|A1MBEM25C3QS5R|               cindy|           dr said??|    1357430400|01-06-2013|\n",
            "|B004A9SDD8|  [1, 1]|    5.0|As a Speech langu...|A2CEK8H02SS23S|           cin_sph66|My patients reque...|    1389916800|01-17-2014|\n",
            "|B004A9SDD8|  [0, 0]|    1.0|Thought it would ...|A1WWW804VWFAHH|          dave hagen|Instead it was ju...|    1404864000|07-09-2014|\n",
            "|B004A9SDD8|  [3, 3]|    5.0|This is absolutel...|A3E6DLEQCZKGDC|             Deborah|           Favorite!|    1377561600|08-27-2013|\n",
            "|B004A9SDD8|  [3, 4]|    1.0|I am so disappoin...| AVYKSESEMLPE3|             Donna S|   Very Disappointed|    1325894400|01-07-2012|\n",
            "+----------+--------+-------+--------------------+--------------+--------------------+--------------------+--------------+----------+\n",
            "only showing top 20 rows\n",
            "\n"
          ]
        }
      ]
    },
    {
      "cell_type": "markdown",
      "source": [
        "Load data into SQL table in local postgreSQL server"
      ],
      "metadata": {
        "id": "Zc5zFRwLXDO0"
      }
    },
    {
      "cell_type": "code",
      "source": [
        "mode = \"overwrite\"\n",
        "jdbc_url=\"jdbc:postgresql://localhost:5432/reviews\"\n",
        "config = {\"user\":\"postgres\",\n",
        "          \"password\":\"postgres\",  \n",
        "          \"driver\":\"org.postgresql.Driver\"}\n",
        "#NOT USED"
      ],
      "metadata": {
        "id": "vw5STubygVNZ"
      },
      "execution_count": 8,
      "outputs": []
    },
    {
      "cell_type": "code",
      "source": [
        "#writing to dataframe to SQL server\n",
        "new_df.write \\\n",
        "    .format(\"jdbc\") \\\n",
        "    .mode(\"overwrite\") \\\n",
        "    .option(\"url\", \"jdbc:postgresql://localhost:5432/reviews\") \\\n",
        "    .option(\"dbtable\", \"reviews\") \\\n",
        "    .option(\"user\",\"postgres\") \\\n",
        "    .option(\"password\",\"postgres\") \\\n",
        "    .option(\"driver\", \"org.postgresql.Driver\") \\\n",
        "    .save()"
      ],
      "metadata": {
        "id": "BBtylt80b8Tj"
      },
      "execution_count": 12,
      "outputs": []
    },
    {
      "cell_type": "markdown",
      "source": [
        "Save dataframe as parquet file."
      ],
      "metadata": {
        "id": "WSNkbzO6XHkt"
      }
    },
    {
      "cell_type": "code",
      "source": [
        "df.write.parquet(\"/content/Amazon_reviews.parquet\")"
      ],
      "metadata": {
        "id": "iTpRSGiNLRFN"
      },
      "execution_count": null,
      "outputs": []
    }
  ]
}